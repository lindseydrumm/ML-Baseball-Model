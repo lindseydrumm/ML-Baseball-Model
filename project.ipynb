{
 "cells": [
  {
   "cell_type": "markdown",
   "metadata": {},
   "source": [
    "## Pitching Stats vs. Series Outcome in Baseball\n",
    "### Machine Learning Project\n",
    "By: Lindsey Drumm, April 2025"
   ]
  },
  {
   "cell_type": "code",
   "execution_count": 74,
   "metadata": {},
   "outputs": [
    {
     "data": {
      "text/html": [
       "<div>\n",
       "<style scoped>\n",
       "    .dataframe tbody tr th:only-of-type {\n",
       "        vertical-align: middle;\n",
       "    }\n",
       "\n",
       "    .dataframe tbody tr th {\n",
       "        vertical-align: top;\n",
       "    }\n",
       "\n",
       "    .dataframe thead th {\n",
       "        text-align: right;\n",
       "    }\n",
       "</style>\n",
       "<table border=\"1\" class=\"dataframe\">\n",
       "  <thead>\n",
       "    <tr style=\"text-align: right;\">\n",
       "      <th></th>\n",
       "      <th>yearID</th>\n",
       "      <th>round</th>\n",
       "      <th>teamIDwinner</th>\n",
       "      <th>lgIDwinner</th>\n",
       "      <th>teamIDloser</th>\n",
       "      <th>lgIDloser</th>\n",
       "      <th>wins</th>\n",
       "      <th>losses</th>\n",
       "      <th>ties</th>\n",
       "    </tr>\n",
       "  </thead>\n",
       "  <tbody>\n",
       "    <tr>\n",
       "      <th>0</th>\n",
       "      <td>1884</td>\n",
       "      <td>WS</td>\n",
       "      <td>PRO</td>\n",
       "      <td>NL</td>\n",
       "      <td>NYP</td>\n",
       "      <td>AA</td>\n",
       "      <td>3</td>\n",
       "      <td>0</td>\n",
       "      <td>0</td>\n",
       "    </tr>\n",
       "    <tr>\n",
       "      <th>1</th>\n",
       "      <td>1885</td>\n",
       "      <td>WS</td>\n",
       "      <td>CHC</td>\n",
       "      <td>NL</td>\n",
       "      <td>STL</td>\n",
       "      <td>AA</td>\n",
       "      <td>3</td>\n",
       "      <td>3</td>\n",
       "      <td>1</td>\n",
       "    </tr>\n",
       "    <tr>\n",
       "      <th>2</th>\n",
       "      <td>1886</td>\n",
       "      <td>WS</td>\n",
       "      <td>STL</td>\n",
       "      <td>AA</td>\n",
       "      <td>CHC</td>\n",
       "      <td>NL</td>\n",
       "      <td>4</td>\n",
       "      <td>2</td>\n",
       "      <td>0</td>\n",
       "    </tr>\n",
       "    <tr>\n",
       "      <th>3</th>\n",
       "      <td>1887</td>\n",
       "      <td>WS</td>\n",
       "      <td>DTN</td>\n",
       "      <td>NL</td>\n",
       "      <td>STL</td>\n",
       "      <td>AA</td>\n",
       "      <td>10</td>\n",
       "      <td>5</td>\n",
       "      <td>0</td>\n",
       "    </tr>\n",
       "    <tr>\n",
       "      <th>4</th>\n",
       "      <td>1888</td>\n",
       "      <td>WS</td>\n",
       "      <td>NYG</td>\n",
       "      <td>NL</td>\n",
       "      <td>STL</td>\n",
       "      <td>AA</td>\n",
       "      <td>6</td>\n",
       "      <td>4</td>\n",
       "      <td>0</td>\n",
       "    </tr>\n",
       "  </tbody>\n",
       "</table>\n",
       "</div>"
      ],
      "text/plain": [
       "   yearID round teamIDwinner lgIDwinner teamIDloser lgIDloser  wins  losses  \\\n",
       "0    1884    WS          PRO         NL         NYP        AA     3       0   \n",
       "1    1885    WS          CHC         NL         STL        AA     3       3   \n",
       "2    1886    WS          STL         AA         CHC        NL     4       2   \n",
       "3    1887    WS          DTN         NL         STL        AA    10       5   \n",
       "4    1888    WS          NYG         NL         STL        AA     6       4   \n",
       "\n",
       "   ties  \n",
       "0     0  \n",
       "1     1  \n",
       "2     0  \n",
       "3     0  \n",
       "4     0  "
      ]
     },
     "execution_count": 74,
     "metadata": {},
     "output_type": "execute_result"
    }
   ],
   "source": [
    "import pandas as pd\n",
    "import numpy as np\n",
    "\n",
    "pitching_data = pd.read_csv('PitchingPost.csv')\n",
    "series_data = pd.read_csv('post_series.csv')\n",
    "\n",
    "series_data.head()"
   ]
  },
  {
   "cell_type": "code",
   "execution_count": 75,
   "metadata": {},
   "outputs": [],
   "source": [
    "agg_funcs = {\n",
    "    'W': 'sum',\n",
    "    'L': 'sum',\n",
    "    'G': 'sum',\n",
    "    'GS': 'sum',\n",
    "    'CG': 'sum',\n",
    "    'SHO': 'sum',\n",
    "    'SV': 'sum',\n",
    "    'IPouts': 'sum',\n",
    "    'H': 'sum',\n",
    "    'ER': 'sum',\n",
    "    'HR': 'sum',\n",
    "    'BB': 'sum',\n",
    "    'SO': 'sum',\n",
    "    'IBB': 'sum',\n",
    "    'WP': 'sum',\n",
    "    'HBP': 'sum',\n",
    "    'BK': 'sum',\n",
    "    'BFP': 'sum',\n",
    "    'GF': 'sum',\n",
    "    'R': 'sum',\n",
    "    'SH': 'sum',\n",
    "    'SF': 'sum',\n",
    "    'GIDP': 'sum'\n",
    "}\n",
    "\n",
    "# group by team and series\n",
    "grouped = pitching_data.groupby(['yearID', 'round', 'teamID']).agg(agg_funcs)\n",
    "grouped['ERA'] = (grouped['ER'] * 27) / grouped['IPouts']\n",
    "grouped['BAOpp'] = grouped['H'] / grouped['BFP']\n",
    "\n",
    "pitching_data = grouped.reset_index()\n",
    "\n"
   ]
  },
  {
   "cell_type": "code",
   "execution_count": 76,
   "metadata": {},
   "outputs": [],
   "source": [
    "# correctly change labels to match across datasets\n",
    "old_labels = ['NY4', 'SL4', 'NY1', 'BR3', 'LS2', 'CL4', 'CHN']\n",
    "new_labels = ['NYP', 'STL', 'NYG', 'BRO', 'LOU', 'CLV', 'CHC']\n",
    "for i in range(0,6):\n",
    "    old = old_labels[i]\n",
    "    new = new_labels[i]\n",
    "    pitching_data['teamID'] = pitching_data['teamID'].str.replace(old, new)\n"
   ]
  },
  {
   "cell_type": "code",
   "execution_count": 78,
   "metadata": {},
   "outputs": [
    {
     "name": "stdout",
     "output_type": "stream",
     "text": [
      "Index(['yearID', 'round', 'teamID', 'W', 'L', 'G', 'CG', 'SHO', 'SV', 'IPouts',\n",
      "       'H', 'ER', 'HR', 'BB', 'SO', 'BFP', 'R', 'ERA', 'won_series'],\n",
      "      dtype='object')\n"
     ]
    }
   ],
   "source": [
    "# assign labels based on wins/losses\n",
    "merged_data = pitching_data.merge(series_data, on=['yearID', 'round'], how='left')\n",
    "merged_data['won_series'] = merged_data.apply(\n",
    "    lambda row: 1 if row['W'] > row['L'] else \n",
    "                0 if row['L'] > row['W'] else \n",
    "                1 if row['teamIDwinner'] == row['teamID'] else \n",
    "                0 if row['teamIDloser'] == row['teamID'] else \n",
    "                np.nan,\n",
    "    axis=1\n",
    ")\n",
    "merged_data = merged_data.dropna()\n",
    "merged_data = merged_data.drop(columns=['teamIDwinner', 'lgIDwinner', 'teamIDloser', 'lgIDloser', 'wins', 'losses', 'ties', 'IBB', 'HBP', 'WP', 'BK', 'GF', 'SH', 'SF', 'GIDP', 'GS', 'BAOpp'])"
   ]
  },
  {
   "cell_type": "code",
   "execution_count": 79,
   "metadata": {},
   "outputs": [
    {
     "name": "stderr",
     "output_type": "stream",
     "text": [
      "/opt/anaconda3/lib/python3.12/site-packages/sklearn/linear_model/_logistic.py:465: ConvergenceWarning: lbfgs failed to converge (status=1):\n",
      "STOP: TOTAL NO. of ITERATIONS REACHED LIMIT.\n",
      "\n",
      "Increase the number of iterations (max_iter) or scale the data as shown in:\n",
      "    https://scikit-learn.org/stable/modules/preprocessing.html\n",
      "Please also refer to the documentation for alternative solver options:\n",
      "    https://scikit-learn.org/stable/modules/linear_model.html#logistic-regression\n",
      "  n_iter_i = _check_optimize_result(\n"
     ]
    }
   ],
   "source": [
    "from sklearn.linear_model import LogisticRegression\n",
    "from sklearn.model_selection import train_test_split\n",
    "\n",
    "X = merged_data.drop(columns=['won_series','yearID', 'round', 'teamID', ])\n",
    "y = merged_data['won_series']\n",
    "\n",
    "X_train, X_test, y_train, y_test = train_test_split(X, y, test_size=0.2, random_state=42)\n",
    "lr_model = LogisticRegression(max_iter=1000)\n",
    "lr_model.fit(X_train, y_train)\n",
    "\n",
    "y_pred = lr_model.predict(X_test)\n",
    "y_prob = lr_model.predict_proba(X_test)[:,1]\n"
   ]
  },
  {
   "cell_type": "code",
   "execution_count": 52,
   "metadata": {},
   "outputs": [
    {
     "data": {
      "image/png": "[encoded data removed]",
      "text/plain": [
       "<Figure size 640x480 with 2 Axes>"
      ]
     },
     "metadata": {},
     "output_type": "display_data"
    },
    {
     "data": {
      "image/png": "[encoded data removed]",
      "text/plain": [
       "<Figure size 640x480 with 1 Axes>"
      ]
     },
     "metadata": {},
     "output_type": "display_data"
    },
    {
     "name": "stdout",
     "output_type": "stream",
     "text": [
      "Accuracy score: 1.0\n"
     ]
    }
   ],
   "source": [
    "from sklearn.metrics import confusion_matrix, ConfusionMatrixDisplay, roc_curve, auc, accuracy_score\n",
    "import matplotlib.pyplot as plt\n",
    "\n",
    "cm = confusion_matrix(y_test, y_pred)\n",
    "disp = ConfusionMatrixDisplay(confusion_matrix=cm)\n",
    "fpr, tpr, thresholds = roc_curve(y_test, y_prob)\n",
    "roc_auc = auc(fpr, tpr)\n",
    "acc = accuracy_score(y_test, y_pred)\n",
    "\n",
    "disp.plot()\n",
    "plt.title(\"Confusion Matrix\")\n",
    "plt.show()\n",
    "plt.plot(fpr, tpr, label=f\"ROC curve (AUC = {roc_auc:.2f})\")\n",
    "plt.title(\"ROC Curve\")\n",
    "plt.legend(loc=\"lower right\")\n",
    "plt.show()\n",
    "print(f\"Accuracy score: {acc}\")"
   ]
  }
 ],
 "metadata": {
  "kernelspec": {
   "display_name": "base",
   "language": "python",
   "name": "python3"
  },
  "language_info": {
   "codemirror_mode": {
    "name": "ipython",
    "version": 3
   },
   "file_extension": ".py",
   "mimetype": "text/x-python",
   "name": "python",
   "nbconvert_exporter": "python",
   "pygments_lexer": "ipython3",
   "version": "3.12.2"
  }
 },
 "nbformat": 4,
 "nbformat_minor": 2
}
